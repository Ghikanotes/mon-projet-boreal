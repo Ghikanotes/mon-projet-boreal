{
  "nbformat": 4,
  "nbformat_minor": 0,
  "metadata": {
    "colab": {
      "provenance": [],
      "authorship_tag": "ABX9TyP5yhIS+Z6Q+xXSZCW7FISD",
      "include_colab_link": true
    },
    "kernelspec": {
      "name": "python3",
      "display_name": "Python 3"
    },
    "language_info": {
      "name": "python"
    }
  },
  "cells": [
    {
      "cell_type": "markdown",
      "metadata": {
        "id": "view-in-github",
        "colab_type": "text"
      },
      "source": [
        "<a href=\"https://colab.research.google.com/github/Ghikanotes/mon-projet-boreal/blob/main/Travail%20programmation2%20.ipynb\" target=\"_parent\"><img src=\"https://colab.research.google.com/assets/colab-badge.svg\" alt=\"Open In Colab\"/></a>"
      ]
    },
    {
      "cell_type": "code",
      "execution_count": null,
      "metadata": {
        "colab": {
          "base_uri": "https://localhost:8080/"
        },
        "id": "F3R2vkXi63sL",
        "outputId": "6c91d7aa-5af5-4ce0-9375-ae4b38d94d1c"
      },
      "outputs": [
        {
          "output_type": "stream",
          "name": "stdout",
          "text": [
            "\n",
            "1. Ajouter\n",
            "2. Voir\n",
            "3. Marquer lu\n",
            "4. Quitter\n",
            "Choix : 5\n",
            "Mauvais choix.\n",
            "\n",
            "1. Ajouter\n",
            "2. Voir\n",
            "3. Marquer lu\n",
            "4. Quitter\n",
            "Choix : 1\n",
            "Titre du livre : Nations Nègres et Culture\n",
            "Auteur : Cheikh Anta Diop\n",
            "Année : 1954\n",
            "Ajouté.\n",
            "\n",
            "1. Ajouter\n",
            "2. Voir\n",
            "3. Marquer lu\n",
            "4. Quitter\n"
          ]
        }
      ],
      "source": [
        "\n",
        "\n",
        "livres = []\n",
        "\n",
        "def ajouter():\n",
        "    titre = input(\"Titre du livre : \")\n",
        "    auteur = input(\"Auteur : \")\n",
        "    try:\n",
        "        annee = int(input(\"Année : \"))\n",
        "    except:\n",
        "        print(\"Année incorrecte.\")\n",
        "        return\n",
        "    livres.append({\"titre\": titre, \"auteur\": auteur, \"annee\": annee, \"lu\": False})\n",
        "    print(\"Ajouté.\")\n",
        "\n",
        "def voir():\n",
        "    if not livres:\n",
        "        print(\"Aucun livre.\")\n",
        "    else:\n",
        "        for i, livre in enumerate(livres):\n",
        "            print(f\"{i+1}. {livre['titre']} - {livre['auteur']} ({livre['annee']}) - Lu: {livre['lu']}\")\n",
        "\n",
        "def lu():\n",
        "    try:\n",
        "        num = int(input(\"Numéro du livre : \")) - 1\n",
        "        livres[num][\"lu\"] = True\n",
        "        print(\"Marqué comme lu.\")\n",
        "    except:\n",
        "        print(\"Erreur.\")\n",
        "\n",
        "def menu():\n",
        "    while True:\n",
        "        print(\"\\n1. Ajouter\\n2. Voir\\n3. Marquer lu\\n4. Quitter\")\n",
        "        c = input(\"Choix : \")\n",
        "        if c == \"1\":\n",
        "            ajouter()\n",
        "        elif c == \"2\":\n",
        "            voir()\n",
        "        elif c == \"3\":\n",
        "            lu()\n",
        "        elif c == \"4\":\n",
        "            break\n",
        "        else:\n",
        "            print(\"Mauvais choix.\")\n",
        "\n",
        "menu()\n"
      ]
    }
  ]
}